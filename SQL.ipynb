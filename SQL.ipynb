{
 "cells": [
  {
   "cell_type": "markdown",
   "metadata": {},
   "source": [
    "# Описание проекта по SQL"
   ]
  },
  {
   "cell_type": "markdown",
   "metadata": {},
   "source": [
    "Заказчик: стартап, который купил крупный сервис для чтения книг по подписке и планирует развивать этот проект. \n",
    "\n",
    "Наша задача - проанализировать базу данных, в которой содержится информация о книгах, издательствах, авторах, а также пользовательские обзоры книг. Эти данные помогут сформулировать ценностное предложение для нового продукта.\n",
    "\n",
    "Для этого необходимо осуществить следующие шаги:\n",
    "- Посчитать, сколько книг вышло после 1 января 2000 года;\n",
    "- Для каждой книги посчитать количество обзоров и среднюю оценку;\n",
    "- Определить издательство, которое выпустило наибольшее число книг толще 50 страниц — так вы исключите из анализа брошюры;\n",
    "- Определить автора с самой высокой средней оценкой книг — учитывайте только книги с 50 и более оценками;\n",
    "- Посчитать среднее количество обзоров от пользователей, которые поставили больше 48 оценок.\n",
    "\n",
    "**Данные:**\n",
    "\n",
    "`Таблица books`\n",
    "\n",
    "Содержит данные о книгах:\n",
    "- book_id — идентификатор книги;\n",
    "- author_id — идентификатор автора;\n",
    "- title — название книги;\n",
    "- num_pages — количество страниц;\n",
    "- publication_date — дата публикации книги;\n",
    "- publisher_id — идентификатор издателя.\n",
    "\n",
    "`Таблица authors`\n",
    "\n",
    "Содержит данные об авторах:\n",
    "- author_id — идентификатор автора;\n",
    "- author — имя автора.\n",
    "\n",
    "`Таблица publishers`\n",
    "\n",
    "Содержит данные об издательствах:\n",
    "- publisher_id — идентификатор издательства;\n",
    "- publisher — название издательства;\n",
    "\n",
    "`Таблица ratings`\n",
    "\n",
    "Содержит данные о пользовательских оценках книг:\n",
    "- rating_id — идентификатор оценки;\n",
    "- book_id — идентификатор книги;\n",
    "- username — имя пользователя, оставившего оценку;\n",
    "- rating — оценка книги.\n",
    "\n",
    "`Таблица reviews`\n",
    "\n",
    "Содержит данные о пользовательских обзорах:\n",
    "- review_id — идентификатор обзора;\n",
    "- book_id — идентификатор книги;\n",
    "- username — имя автора обзора;\n",
    "- text — текст обзора."
   ]
  },
  {
   "cell_type": "markdown",
   "metadata": {},
   "source": [
    "### Исследуем данные"
   ]
  },
  {
   "cell_type": "code",
   "execution_count": 1,
   "metadata": {},
   "outputs": [],
   "source": [
    "# импортируем библиотеки\n",
    "import pandas as pd\n",
    "from sqlalchemy import text, create_engine"
   ]
  },
  {
   "cell_type": "code",
   "execution_count": 2,
   "metadata": {},
   "outputs": [],
   "source": [
    "# устанавливаем параметры\n",
    "db_config = {'user': 'praktikum_student', # имя пользователя\n",
    "'pwd': 'Sdf4$2;d-d30pp', # пароль\n",
    "'host': 'rc1b-wcoijxj3yxfsf3fs.mdb.yandexcloud.net',\n",
    "'port': 6432, # порт подключения\n",
    "'db': 'data-analyst-final-project-db'} # название базы данных\n",
    "connection_string = 'postgresql://{user}:{pwd}@{host}:{port}/{db}'.format(**db_config)"
   ]
  },
  {
   "cell_type": "code",
   "execution_count": 3,
   "metadata": {},
   "outputs": [],
   "source": [
    "# сохраняем коннектор\n",
    "engine = create_engine(connection_string, connect_args={'sslmode':'require'})"
   ]
  },
  {
   "cell_type": "markdown",
   "metadata": {},
   "source": [
    "Выведем первые строки таблиц для ознакомления с данными:"
   ]
  },
  {
   "cell_type": "code",
   "execution_count": 4,
   "metadata": {},
   "outputs": [
    {
     "data": {
      "text/html": [
       "<div>\n",
       "<style scoped>\n",
       "    .dataframe tbody tr th:only-of-type {\n",
       "        vertical-align: middle;\n",
       "    }\n",
       "\n",
       "    .dataframe tbody tr th {\n",
       "        vertical-align: top;\n",
       "    }\n",
       "\n",
       "    .dataframe thead th {\n",
       "        text-align: right;\n",
       "    }\n",
       "</style>\n",
       "<table border=\"1\" class=\"dataframe\">\n",
       "  <thead>\n",
       "    <tr style=\"text-align: right;\">\n",
       "      <th></th>\n",
       "      <th>book_id</th>\n",
       "      <th>author_id</th>\n",
       "      <th>title</th>\n",
       "      <th>num_pages</th>\n",
       "      <th>publication_date</th>\n",
       "      <th>publisher_id</th>\n",
       "    </tr>\n",
       "  </thead>\n",
       "  <tbody>\n",
       "    <tr>\n",
       "      <th>0</th>\n",
       "      <td>1</td>\n",
       "      <td>546</td>\n",
       "      <td>'Salem's Lot</td>\n",
       "      <td>594</td>\n",
       "      <td>2005-11-01</td>\n",
       "      <td>93</td>\n",
       "    </tr>\n",
       "    <tr>\n",
       "      <th>1</th>\n",
       "      <td>2</td>\n",
       "      <td>465</td>\n",
       "      <td>1 000 Places to See Before You Die</td>\n",
       "      <td>992</td>\n",
       "      <td>2003-05-22</td>\n",
       "      <td>336</td>\n",
       "    </tr>\n",
       "    <tr>\n",
       "      <th>2</th>\n",
       "      <td>3</td>\n",
       "      <td>407</td>\n",
       "      <td>13 Little Blue Envelopes (Little Blue Envelope...</td>\n",
       "      <td>322</td>\n",
       "      <td>2010-12-21</td>\n",
       "      <td>135</td>\n",
       "    </tr>\n",
       "    <tr>\n",
       "      <th>3</th>\n",
       "      <td>4</td>\n",
       "      <td>82</td>\n",
       "      <td>1491: New Revelations of the Americas Before C...</td>\n",
       "      <td>541</td>\n",
       "      <td>2006-10-10</td>\n",
       "      <td>309</td>\n",
       "    </tr>\n",
       "    <tr>\n",
       "      <th>4</th>\n",
       "      <td>5</td>\n",
       "      <td>125</td>\n",
       "      <td>1776</td>\n",
       "      <td>386</td>\n",
       "      <td>2006-07-04</td>\n",
       "      <td>268</td>\n",
       "    </tr>\n",
       "  </tbody>\n",
       "</table>\n",
       "</div>"
      ],
      "text/plain": [
       "   book_id  author_id                                              title  \\\n",
       "0        1        546                                       'Salem's Lot   \n",
       "1        2        465                 1 000 Places to See Before You Die   \n",
       "2        3        407  13 Little Blue Envelopes (Little Blue Envelope...   \n",
       "3        4         82  1491: New Revelations of the Americas Before C...   \n",
       "4        5        125                                               1776   \n",
       "\n",
       "   num_pages publication_date  publisher_id  \n",
       "0        594       2005-11-01            93  \n",
       "1        992       2003-05-22           336  \n",
       "2        322       2010-12-21           135  \n",
       "3        541       2006-10-10           309  \n",
       "4        386       2006-07-04           268  "
      ]
     },
     "execution_count": 4,
     "metadata": {},
     "output_type": "execute_result"
    }
   ],
   "source": [
    "# таблица с книгами\n",
    "query = '''\n",
    "SELECT * \n",
    "FROM books \n",
    "LIMIT 5\n",
    "'''\n",
    "\n",
    "con=engine.connect()\n",
    "pd.io.sql.read_sql(sql=text(query), con = con)"
   ]
  },
  {
   "cell_type": "code",
   "execution_count": 5,
   "metadata": {},
   "outputs": [
    {
     "data": {
      "text/html": [
       "<div>\n",
       "<style scoped>\n",
       "    .dataframe tbody tr th:only-of-type {\n",
       "        vertical-align: middle;\n",
       "    }\n",
       "\n",
       "    .dataframe tbody tr th {\n",
       "        vertical-align: top;\n",
       "    }\n",
       "\n",
       "    .dataframe thead th {\n",
       "        text-align: right;\n",
       "    }\n",
       "</style>\n",
       "<table border=\"1\" class=\"dataframe\">\n",
       "  <thead>\n",
       "    <tr style=\"text-align: right;\">\n",
       "      <th></th>\n",
       "      <th>author_id</th>\n",
       "      <th>author</th>\n",
       "    </tr>\n",
       "  </thead>\n",
       "  <tbody>\n",
       "    <tr>\n",
       "      <th>0</th>\n",
       "      <td>1</td>\n",
       "      <td>A.S. Byatt</td>\n",
       "    </tr>\n",
       "    <tr>\n",
       "      <th>1</th>\n",
       "      <td>2</td>\n",
       "      <td>Aesop/Laura Harris/Laura Gibbs</td>\n",
       "    </tr>\n",
       "    <tr>\n",
       "      <th>2</th>\n",
       "      <td>3</td>\n",
       "      <td>Agatha Christie</td>\n",
       "    </tr>\n",
       "    <tr>\n",
       "      <th>3</th>\n",
       "      <td>4</td>\n",
       "      <td>Alan Brennert</td>\n",
       "    </tr>\n",
       "    <tr>\n",
       "      <th>4</th>\n",
       "      <td>5</td>\n",
       "      <td>Alan Moore/David   Lloyd</td>\n",
       "    </tr>\n",
       "  </tbody>\n",
       "</table>\n",
       "</div>"
      ],
      "text/plain": [
       "   author_id                          author\n",
       "0          1                      A.S. Byatt\n",
       "1          2  Aesop/Laura Harris/Laura Gibbs\n",
       "2          3                 Agatha Christie\n",
       "3          4                   Alan Brennert\n",
       "4          5        Alan Moore/David   Lloyd"
      ]
     },
     "execution_count": 5,
     "metadata": {},
     "output_type": "execute_result"
    }
   ],
   "source": [
    "# таблица с авторами\n",
    "query = '''\n",
    "SELECT * \n",
    "FROM authors \n",
    "LIMIT 5\n",
    "'''\n",
    "\n",
    "pd.io.sql.read_sql(sql=text(query), con = con)"
   ]
  },
  {
   "cell_type": "code",
   "execution_count": 6,
   "metadata": {},
   "outputs": [
    {
     "data": {
      "text/html": [
       "<div>\n",
       "<style scoped>\n",
       "    .dataframe tbody tr th:only-of-type {\n",
       "        vertical-align: middle;\n",
       "    }\n",
       "\n",
       "    .dataframe tbody tr th {\n",
       "        vertical-align: top;\n",
       "    }\n",
       "\n",
       "    .dataframe thead th {\n",
       "        text-align: right;\n",
       "    }\n",
       "</style>\n",
       "<table border=\"1\" class=\"dataframe\">\n",
       "  <thead>\n",
       "    <tr style=\"text-align: right;\">\n",
       "      <th></th>\n",
       "      <th>publisher_id</th>\n",
       "      <th>publisher</th>\n",
       "    </tr>\n",
       "  </thead>\n",
       "  <tbody>\n",
       "    <tr>\n",
       "      <th>0</th>\n",
       "      <td>1</td>\n",
       "      <td>Ace</td>\n",
       "    </tr>\n",
       "    <tr>\n",
       "      <th>1</th>\n",
       "      <td>2</td>\n",
       "      <td>Ace Book</td>\n",
       "    </tr>\n",
       "    <tr>\n",
       "      <th>2</th>\n",
       "      <td>3</td>\n",
       "      <td>Ace Books</td>\n",
       "    </tr>\n",
       "    <tr>\n",
       "      <th>3</th>\n",
       "      <td>4</td>\n",
       "      <td>Ace Hardcover</td>\n",
       "    </tr>\n",
       "    <tr>\n",
       "      <th>4</th>\n",
       "      <td>5</td>\n",
       "      <td>Addison Wesley Publishing Company</td>\n",
       "    </tr>\n",
       "  </tbody>\n",
       "</table>\n",
       "</div>"
      ],
      "text/plain": [
       "   publisher_id                          publisher\n",
       "0             1                                Ace\n",
       "1             2                           Ace Book\n",
       "2             3                          Ace Books\n",
       "3             4                      Ace Hardcover\n",
       "4             5  Addison Wesley Publishing Company"
      ]
     },
     "execution_count": 6,
     "metadata": {},
     "output_type": "execute_result"
    }
   ],
   "source": [
    "# таблица с издательствами\n",
    "query = '''\n",
    "SELECT * \n",
    "FROM publishers \n",
    "LIMIT 5\n",
    "'''\n",
    "\n",
    "pd.io.sql.read_sql(sql=text(query), con = con)"
   ]
  },
  {
   "cell_type": "code",
   "execution_count": 7,
   "metadata": {},
   "outputs": [
    {
     "data": {
      "text/html": [
       "<div>\n",
       "<style scoped>\n",
       "    .dataframe tbody tr th:only-of-type {\n",
       "        vertical-align: middle;\n",
       "    }\n",
       "\n",
       "    .dataframe tbody tr th {\n",
       "        vertical-align: top;\n",
       "    }\n",
       "\n",
       "    .dataframe thead th {\n",
       "        text-align: right;\n",
       "    }\n",
       "</style>\n",
       "<table border=\"1\" class=\"dataframe\">\n",
       "  <thead>\n",
       "    <tr style=\"text-align: right;\">\n",
       "      <th></th>\n",
       "      <th>rating_id</th>\n",
       "      <th>book_id</th>\n",
       "      <th>username</th>\n",
       "      <th>rating</th>\n",
       "    </tr>\n",
       "  </thead>\n",
       "  <tbody>\n",
       "    <tr>\n",
       "      <th>0</th>\n",
       "      <td>1</td>\n",
       "      <td>1</td>\n",
       "      <td>ryanfranco</td>\n",
       "      <td>4</td>\n",
       "    </tr>\n",
       "    <tr>\n",
       "      <th>1</th>\n",
       "      <td>2</td>\n",
       "      <td>1</td>\n",
       "      <td>grantpatricia</td>\n",
       "      <td>2</td>\n",
       "    </tr>\n",
       "    <tr>\n",
       "      <th>2</th>\n",
       "      <td>3</td>\n",
       "      <td>1</td>\n",
       "      <td>brandtandrea</td>\n",
       "      <td>5</td>\n",
       "    </tr>\n",
       "    <tr>\n",
       "      <th>3</th>\n",
       "      <td>4</td>\n",
       "      <td>2</td>\n",
       "      <td>lorichen</td>\n",
       "      <td>3</td>\n",
       "    </tr>\n",
       "    <tr>\n",
       "      <th>4</th>\n",
       "      <td>5</td>\n",
       "      <td>2</td>\n",
       "      <td>mariokeller</td>\n",
       "      <td>2</td>\n",
       "    </tr>\n",
       "  </tbody>\n",
       "</table>\n",
       "</div>"
      ],
      "text/plain": [
       "   rating_id  book_id       username  rating\n",
       "0          1        1     ryanfranco       4\n",
       "1          2        1  grantpatricia       2\n",
       "2          3        1   brandtandrea       5\n",
       "3          4        2       lorichen       3\n",
       "4          5        2    mariokeller       2"
      ]
     },
     "execution_count": 7,
     "metadata": {},
     "output_type": "execute_result"
    }
   ],
   "source": [
    "# таблица с пользовательскими оценками\n",
    "query = '''\n",
    "SELECT * \n",
    "FROM ratings\n",
    "LIMIT 5\n",
    "'''\n",
    "\n",
    "pd.io.sql.read_sql(sql=text(query), con = con)"
   ]
  },
  {
   "cell_type": "code",
   "execution_count": 8,
   "metadata": {},
   "outputs": [
    {
     "data": {
      "text/html": [
       "<div>\n",
       "<style scoped>\n",
       "    .dataframe tbody tr th:only-of-type {\n",
       "        vertical-align: middle;\n",
       "    }\n",
       "\n",
       "    .dataframe tbody tr th {\n",
       "        vertical-align: top;\n",
       "    }\n",
       "\n",
       "    .dataframe thead th {\n",
       "        text-align: right;\n",
       "    }\n",
       "</style>\n",
       "<table border=\"1\" class=\"dataframe\">\n",
       "  <thead>\n",
       "    <tr style=\"text-align: right;\">\n",
       "      <th></th>\n",
       "      <th>review_id</th>\n",
       "      <th>book_id</th>\n",
       "      <th>username</th>\n",
       "      <th>text</th>\n",
       "    </tr>\n",
       "  </thead>\n",
       "  <tbody>\n",
       "    <tr>\n",
       "      <th>0</th>\n",
       "      <td>1</td>\n",
       "      <td>1</td>\n",
       "      <td>brandtandrea</td>\n",
       "      <td>Mention society tell send professor analysis. ...</td>\n",
       "    </tr>\n",
       "    <tr>\n",
       "      <th>1</th>\n",
       "      <td>2</td>\n",
       "      <td>1</td>\n",
       "      <td>ryanfranco</td>\n",
       "      <td>Foot glass pretty audience hit themselves. Amo...</td>\n",
       "    </tr>\n",
       "    <tr>\n",
       "      <th>2</th>\n",
       "      <td>3</td>\n",
       "      <td>2</td>\n",
       "      <td>lorichen</td>\n",
       "      <td>Listen treat keep worry. Miss husband tax but ...</td>\n",
       "    </tr>\n",
       "    <tr>\n",
       "      <th>3</th>\n",
       "      <td>4</td>\n",
       "      <td>3</td>\n",
       "      <td>johnsonamanda</td>\n",
       "      <td>Finally month interesting blue could nature cu...</td>\n",
       "    </tr>\n",
       "    <tr>\n",
       "      <th>4</th>\n",
       "      <td>5</td>\n",
       "      <td>3</td>\n",
       "      <td>scotttamara</td>\n",
       "      <td>Nation purpose heavy give wait song will. List...</td>\n",
       "    </tr>\n",
       "  </tbody>\n",
       "</table>\n",
       "</div>"
      ],
      "text/plain": [
       "   review_id  book_id       username  \\\n",
       "0          1        1   brandtandrea   \n",
       "1          2        1     ryanfranco   \n",
       "2          3        2       lorichen   \n",
       "3          4        3  johnsonamanda   \n",
       "4          5        3    scotttamara   \n",
       "\n",
       "                                                text  \n",
       "0  Mention society tell send professor analysis. ...  \n",
       "1  Foot glass pretty audience hit themselves. Amo...  \n",
       "2  Listen treat keep worry. Miss husband tax but ...  \n",
       "3  Finally month interesting blue could nature cu...  \n",
       "4  Nation purpose heavy give wait song will. List...  "
      ]
     },
     "execution_count": 8,
     "metadata": {},
     "output_type": "execute_result"
    }
   ],
   "source": [
    "# таблица с пользовательскими обзорами\n",
    "query = '''\n",
    "SELECT * \n",
    "FROM reviews\n",
    "LIMIT 5\n",
    "'''\n",
    "\n",
    "pd.io.sql.read_sql(sql=text(query), con = con)"
   ]
  },
  {
   "cell_type": "markdown",
   "metadata": {},
   "source": [
    "Мы ознакомились с данными, теперь можно приступать к решению задач."
   ]
  },
  {
   "cell_type": "markdown",
   "metadata": {},
   "source": [
    "### Решение задач"
   ]
  },
  {
   "cell_type": "markdown",
   "metadata": {},
   "source": [
    "#### Необходимо посчитать, сколько книг вышло после 1 января 2000 года"
   ]
  },
  {
   "cell_type": "code",
   "execution_count": 9,
   "metadata": {},
   "outputs": [
    {
     "data": {
      "text/html": [
       "<div>\n",
       "<style scoped>\n",
       "    .dataframe tbody tr th:only-of-type {\n",
       "        vertical-align: middle;\n",
       "    }\n",
       "\n",
       "    .dataframe tbody tr th {\n",
       "        vertical-align: top;\n",
       "    }\n",
       "\n",
       "    .dataframe thead th {\n",
       "        text-align: right;\n",
       "    }\n",
       "</style>\n",
       "<table border=\"1\" class=\"dataframe\">\n",
       "  <thead>\n",
       "    <tr style=\"text-align: right;\">\n",
       "      <th></th>\n",
       "      <th>books_cnt</th>\n",
       "    </tr>\n",
       "  </thead>\n",
       "  <tbody>\n",
       "    <tr>\n",
       "      <th>0</th>\n",
       "      <td>819</td>\n",
       "    </tr>\n",
       "  </tbody>\n",
       "</table>\n",
       "</div>"
      ],
      "text/plain": [
       "   books_cnt\n",
       "0        819"
      ]
     },
     "execution_count": 9,
     "metadata": {},
     "output_type": "execute_result"
    }
   ],
   "source": [
    "query = '''\n",
    "SELECT COUNT(book_id) AS books_cnt\n",
    "FROM books\n",
    "WHERE publication_date > '2000-01-01'\n",
    "'''\n",
    "\n",
    "pd.io.sql.read_sql(sql=text(query), con = con)"
   ]
  },
  {
   "cell_type": "markdown",
   "metadata": {},
   "source": [
    "После 1 января 2000 года вышло 819 книг."
   ]
  },
  {
   "cell_type": "markdown",
   "metadata": {},
   "source": [
    "#### Необходимо посчитать количество обзоров и среднюю оценку для каждой книги"
   ]
  },
  {
   "cell_type": "code",
   "execution_count": 10,
   "metadata": {},
   "outputs": [
    {
     "data": {
      "text/html": [
       "<div>\n",
       "<style scoped>\n",
       "    .dataframe tbody tr th:only-of-type {\n",
       "        vertical-align: middle;\n",
       "    }\n",
       "\n",
       "    .dataframe tbody tr th {\n",
       "        vertical-align: top;\n",
       "    }\n",
       "\n",
       "    .dataframe thead th {\n",
       "        text-align: right;\n",
       "    }\n",
       "</style>\n",
       "<table border=\"1\" class=\"dataframe\">\n",
       "  <thead>\n",
       "    <tr style=\"text-align: right;\">\n",
       "      <th></th>\n",
       "      <th>book_id</th>\n",
       "      <th>title</th>\n",
       "      <th>review_cnt</th>\n",
       "      <th>rating_avg</th>\n",
       "    </tr>\n",
       "  </thead>\n",
       "  <tbody>\n",
       "    <tr>\n",
       "      <th>0</th>\n",
       "      <td>948</td>\n",
       "      <td>Twilight (Twilight  #1)</td>\n",
       "      <td>7</td>\n",
       "      <td>3.66</td>\n",
       "    </tr>\n",
       "    <tr>\n",
       "      <th>1</th>\n",
       "      <td>963</td>\n",
       "      <td>Water for Elephants</td>\n",
       "      <td>6</td>\n",
       "      <td>3.98</td>\n",
       "    </tr>\n",
       "    <tr>\n",
       "      <th>2</th>\n",
       "      <td>734</td>\n",
       "      <td>The Glass Castle</td>\n",
       "      <td>6</td>\n",
       "      <td>4.21</td>\n",
       "    </tr>\n",
       "    <tr>\n",
       "      <th>3</th>\n",
       "      <td>302</td>\n",
       "      <td>Harry Potter and the Prisoner of Azkaban (Harr...</td>\n",
       "      <td>6</td>\n",
       "      <td>4.41</td>\n",
       "    </tr>\n",
       "    <tr>\n",
       "      <th>4</th>\n",
       "      <td>695</td>\n",
       "      <td>The Curious Incident of the Dog in the Night-Time</td>\n",
       "      <td>6</td>\n",
       "      <td>4.08</td>\n",
       "    </tr>\n",
       "    <tr>\n",
       "      <th>...</th>\n",
       "      <td>...</td>\n",
       "      <td>...</td>\n",
       "      <td>...</td>\n",
       "      <td>...</td>\n",
       "    </tr>\n",
       "    <tr>\n",
       "      <th>995</th>\n",
       "      <td>83</td>\n",
       "      <td>Anne Rice's The Vampire Lestat: A Graphic Novel</td>\n",
       "      <td>0</td>\n",
       "      <td>3.67</td>\n",
       "    </tr>\n",
       "    <tr>\n",
       "      <th>996</th>\n",
       "      <td>808</td>\n",
       "      <td>The Natural Way to Draw</td>\n",
       "      <td>0</td>\n",
       "      <td>3.00</td>\n",
       "    </tr>\n",
       "    <tr>\n",
       "      <th>997</th>\n",
       "      <td>672</td>\n",
       "      <td>The Cat in the Hat and Other Dr. Seuss Favorites</td>\n",
       "      <td>0</td>\n",
       "      <td>5.00</td>\n",
       "    </tr>\n",
       "    <tr>\n",
       "      <th>998</th>\n",
       "      <td>221</td>\n",
       "      <td>Essential Tales and Poems</td>\n",
       "      <td>0</td>\n",
       "      <td>4.00</td>\n",
       "    </tr>\n",
       "    <tr>\n",
       "      <th>999</th>\n",
       "      <td>191</td>\n",
       "      <td>Disney's Beauty and the Beast (A Little Golden...</td>\n",
       "      <td>0</td>\n",
       "      <td>4.00</td>\n",
       "    </tr>\n",
       "  </tbody>\n",
       "</table>\n",
       "<p>1000 rows × 4 columns</p>\n",
       "</div>"
      ],
      "text/plain": [
       "     book_id                                              title  review_cnt  \\\n",
       "0        948                            Twilight (Twilight  #1)           7   \n",
       "1        963                                Water for Elephants           6   \n",
       "2        734                                   The Glass Castle           6   \n",
       "3        302  Harry Potter and the Prisoner of Azkaban (Harr...           6   \n",
       "4        695  The Curious Incident of the Dog in the Night-Time           6   \n",
       "..       ...                                                ...         ...   \n",
       "995       83    Anne Rice's The Vampire Lestat: A Graphic Novel           0   \n",
       "996      808                            The Natural Way to Draw           0   \n",
       "997      672   The Cat in the Hat and Other Dr. Seuss Favorites           0   \n",
       "998      221                          Essential Tales and Poems           0   \n",
       "999      191  Disney's Beauty and the Beast (A Little Golden...           0   \n",
       "\n",
       "     rating_avg  \n",
       "0          3.66  \n",
       "1          3.98  \n",
       "2          4.21  \n",
       "3          4.41  \n",
       "4          4.08  \n",
       "..          ...  \n",
       "995        3.67  \n",
       "996        3.00  \n",
       "997        5.00  \n",
       "998        4.00  \n",
       "999        4.00  \n",
       "\n",
       "[1000 rows x 4 columns]"
      ]
     },
     "execution_count": 10,
     "metadata": {},
     "output_type": "execute_result"
    }
   ],
   "source": [
    "query = '''\n",
    "SELECT b.book_id,\n",
    "       b.title,\n",
    "       COUNT(DISTINCT r.review_id) AS review_cnt,\n",
    "       ROUND(AVG(rate.rating), 2) AS rating_avg\n",
    "FROM books AS b\n",
    "LEFT OUTER JOIN ratings AS rate ON b.book_id = rate.book_id\n",
    "LEFT OUTER JOIN reviews AS r ON rate.book_id = r.book_id\n",
    "GROUP BY b.book_id, b.title\n",
    "ORDER BY review_cnt DESC\n",
    "'''\n",
    "\n",
    "pd.io.sql.read_sql(sql=text(query), con = con)"
   ]
  },
  {
   "cell_type": "markdown",
   "metadata": {},
   "source": [
    "Мы объединили 3 таблицы (books, reviews, ratings), сгруппировали данные по названию книги и ее id, затем рассчитали количество обзоров и среднюю оценку для каждой книги."
   ]
  },
  {
   "cell_type": "markdown",
   "metadata": {},
   "source": [
    "#### Определить издательство, которое выпустило наибольшее число книг толще 50 страниц"
   ]
  },
  {
   "cell_type": "code",
   "execution_count": 11,
   "metadata": {},
   "outputs": [
    {
     "data": {
      "text/html": [
       "<div>\n",
       "<style scoped>\n",
       "    .dataframe tbody tr th:only-of-type {\n",
       "        vertical-align: middle;\n",
       "    }\n",
       "\n",
       "    .dataframe tbody tr th {\n",
       "        vertical-align: top;\n",
       "    }\n",
       "\n",
       "    .dataframe thead th {\n",
       "        text-align: right;\n",
       "    }\n",
       "</style>\n",
       "<table border=\"1\" class=\"dataframe\">\n",
       "  <thead>\n",
       "    <tr style=\"text-align: right;\">\n",
       "      <th></th>\n",
       "      <th>publisher</th>\n",
       "      <th>books_cnt</th>\n",
       "    </tr>\n",
       "  </thead>\n",
       "  <tbody>\n",
       "    <tr>\n",
       "      <th>0</th>\n",
       "      <td>Penguin Books</td>\n",
       "      <td>42</td>\n",
       "    </tr>\n",
       "  </tbody>\n",
       "</table>\n",
       "</div>"
      ],
      "text/plain": [
       "       publisher  books_cnt\n",
       "0  Penguin Books         42"
      ]
     },
     "execution_count": 11,
     "metadata": {},
     "output_type": "execute_result"
    }
   ],
   "source": [
    "query = '''\n",
    "SELECT p.publisher,\n",
    "       COUNT(b.book_id) AS books_cnt\n",
    "FROM publishers AS p\n",
    "INNER JOIN books AS b ON p.publisher_id = b.publisher_id\n",
    "WHERE num_pages > 50\n",
    "GROUP BY p.publisher\n",
    "ORDER BY books_cnt DESC\n",
    "LIMIT 1\n",
    "'''\n",
    "\n",
    "pd.io.sql.read_sql(sql=text(query), con = con)"
   ]
  },
  {
   "cell_type": "markdown",
   "metadata": {},
   "source": [
    "Итак, издательством, которое выпустило наибольшее число книг толще 50 страниц, является издательство Penguin Books - 42 книги.   "
   ]
  },
  {
   "cell_type": "markdown",
   "metadata": {},
   "source": [
    "#### Определить автора с самой высокой средней оценкой книг (для  книг с 50 и более оценками)"
   ]
  },
  {
   "cell_type": "code",
   "execution_count": 12,
   "metadata": {},
   "outputs": [
    {
     "data": {
      "text/html": [
       "<div>\n",
       "<style scoped>\n",
       "    .dataframe tbody tr th:only-of-type {\n",
       "        vertical-align: middle;\n",
       "    }\n",
       "\n",
       "    .dataframe tbody tr th {\n",
       "        vertical-align: top;\n",
       "    }\n",
       "\n",
       "    .dataframe thead th {\n",
       "        text-align: right;\n",
       "    }\n",
       "</style>\n",
       "<table border=\"1\" class=\"dataframe\">\n",
       "  <thead>\n",
       "    <tr style=\"text-align: right;\">\n",
       "      <th></th>\n",
       "      <th>author</th>\n",
       "      <th>rating_avg</th>\n",
       "    </tr>\n",
       "  </thead>\n",
       "  <tbody>\n",
       "    <tr>\n",
       "      <th>0</th>\n",
       "      <td>J.K. Rowling/Mary GrandPré</td>\n",
       "      <td>4.29</td>\n",
       "    </tr>\n",
       "  </tbody>\n",
       "</table>\n",
       "</div>"
      ],
      "text/plain": [
       "                       author  rating_avg\n",
       "0  J.K. Rowling/Mary GrandPré        4.29"
      ]
     },
     "execution_count": 12,
     "metadata": {},
     "output_type": "execute_result"
    }
   ],
   "source": [
    "query = '''\n",
    "SELECT a.author AS author,\n",
    "       ROUND(AVG(r.rating),2) AS rating_avg\n",
    "FROM authors AS a\n",
    "JOIN books AS b ON a.author_id = b.author_id\n",
    "JOIN ratings AS r ON b.book_id = r.book_id\n",
    "WHERE r.book_id IN (SELECT book_id\n",
    "                  FROM ratings\n",
    "                  GROUP BY book_id\n",
    "                  HAVING COUNT(rating) >= 50)\n",
    "GROUP BY author              \n",
    "ORDER BY rating_avg DESC\n",
    "LIMIT 1\n",
    "'''\n",
    "\n",
    "pd.io.sql.read_sql(sql=text(query), con = con)"
   ]
  },
  {
   "cell_type": "markdown",
   "metadata": {},
   "source": [
    "Автором с самой высокой средней оценкой (для книг с 50 и более оценками) стала Дж.Роулинг. Все любят Гарри Поттера)"
   ]
  },
  {
   "cell_type": "markdown",
   "metadata": {},
   "source": [
    "#### Необходимо посчитать среднее количество обзоров от пользователей, которые поставили больше 48 оценок"
   ]
  },
  {
   "cell_type": "code",
   "execution_count": 13,
   "metadata": {},
   "outputs": [
    {
     "data": {
      "text/html": [
       "<div>\n",
       "<style scoped>\n",
       "    .dataframe tbody tr th:only-of-type {\n",
       "        vertical-align: middle;\n",
       "    }\n",
       "\n",
       "    .dataframe tbody tr th {\n",
       "        vertical-align: top;\n",
       "    }\n",
       "\n",
       "    .dataframe thead th {\n",
       "        text-align: right;\n",
       "    }\n",
       "</style>\n",
       "<table border=\"1\" class=\"dataframe\">\n",
       "  <thead>\n",
       "    <tr style=\"text-align: right;\">\n",
       "      <th></th>\n",
       "      <th>review_avg</th>\n",
       "    </tr>\n",
       "  </thead>\n",
       "  <tbody>\n",
       "    <tr>\n",
       "      <th>0</th>\n",
       "      <td>24.0</td>\n",
       "    </tr>\n",
       "  </tbody>\n",
       "</table>\n",
       "</div>"
      ],
      "text/plain": [
       "   review_avg\n",
       "0        24.0"
      ]
     },
     "execution_count": 13,
     "metadata": {},
     "output_type": "execute_result"
    }
   ],
   "source": [
    "query = '''\n",
    "SELECT AVG(r.review_count) AS review_avg\n",
    "FROM (SELECT username,\n",
    "      COUNT(review_id) AS review_count\n",
    "      FROM reviews\n",
    "      WHERE username IN (SELECT username\n",
    "                         FROM ratings\n",
    "                         GROUP BY username\n",
    "                         HAVING COUNT(rating) > 48) \n",
    "                         GROUP BY username) AS r\n",
    "'''\n",
    "\n",
    "pd.io.sql.read_sql(sql=text(query), con = con)"
   ]
  },
  {
   "cell_type": "markdown",
   "metadata": {},
   "source": [
    "В среднем 24 обзора пишут пользователи, которые поставили больше 48 оценок "
   ]
  },
  {
   "cell_type": "markdown",
   "metadata": {},
   "source": [
    "Итак, по результатам анализа базы данных можно сделать следующие выводы:\n",
    "- после 1 января 2000 года вышло 819 книг;\n",
    "- издательством, выпустившим наибольшее число книг толще 50 страниц, является Penguin Books (42 книги);\n",
    "- автором с самой высокой средней оценкой (для книг с 50 и более оценками) является Дж.Роулинг;\n",
    "- среднее количество обзоров от пользователей, которые поставили больше 48 оценок, составляет 24."
   ]
  }
 ],
 "metadata": {
  "ExecuteTimeLog": [
   {
    "duration": 526,
    "start_time": "2023-06-30T07:53:35.245Z"
   },
   {
    "duration": 9441,
    "start_time": "2023-06-30T07:55:49.050Z"
   },
   {
    "duration": 82,
    "start_time": "2023-06-30T07:58:30.293Z"
   },
   {
    "duration": 3,
    "start_time": "2023-06-30T08:07:20.789Z"
   },
   {
    "duration": 43,
    "start_time": "2023-06-30T08:07:27.114Z"
   },
   {
    "duration": 12,
    "start_time": "2023-06-30T08:07:35.626Z"
   },
   {
    "duration": 17,
    "start_time": "2023-06-30T08:08:49.991Z"
   },
   {
    "duration": 12,
    "start_time": "2023-06-30T08:09:18.952Z"
   },
   {
    "duration": 13,
    "start_time": "2023-06-30T08:10:04.404Z"
   },
   {
    "duration": 29,
    "start_time": "2023-06-30T08:10:32.870Z"
   },
   {
    "duration": 9906,
    "start_time": "2023-06-30T08:15:28.923Z"
   },
   {
    "duration": 52,
    "start_time": "2023-06-30T08:15:38.831Z"
   },
   {
    "duration": 1386,
    "start_time": "2023-06-30T08:15:38.884Z"
   },
   {
    "duration": 999,
    "start_time": "2023-06-30T08:15:40.272Z"
   },
   {
    "duration": 10,
    "start_time": "2023-06-30T08:15:41.272Z"
   },
   {
    "duration": 16,
    "start_time": "2023-06-30T08:15:41.284Z"
   },
   {
    "duration": 12,
    "start_time": "2023-06-30T08:25:56.288Z"
   },
   {
    "duration": 77,
    "start_time": "2023-06-30T08:37:05.967Z"
   },
   {
    "duration": 19,
    "start_time": "2023-06-30T08:41:14.156Z"
   },
   {
    "duration": 50,
    "start_time": "2023-06-30T08:41:27.166Z"
   },
   {
    "duration": 51,
    "start_time": "2023-06-30T08:41:52.875Z"
   },
   {
    "duration": 22,
    "start_time": "2023-06-30T08:42:07.540Z"
   },
   {
    "duration": 23,
    "start_time": "2023-06-30T08:42:15.796Z"
   },
   {
    "duration": 22,
    "start_time": "2023-06-30T08:43:48.645Z"
   },
   {
    "duration": 23,
    "start_time": "2023-06-30T08:46:39.428Z"
   },
   {
    "duration": 26,
    "start_time": "2023-06-30T09:00:56.955Z"
   },
   {
    "duration": 12,
    "start_time": "2023-06-30T09:01:54.335Z"
   },
   {
    "duration": 66,
    "start_time": "2023-06-30T09:01:58.383Z"
   },
   {
    "duration": 67,
    "start_time": "2023-06-30T15:48:24.058Z"
   },
   {
    "duration": 19,
    "start_time": "2023-06-30T15:49:00.685Z"
   },
   {
    "duration": 100,
    "start_time": "2023-06-30T15:49:05.568Z"
   },
   {
    "duration": 86,
    "start_time": "2023-06-30T16:02:10.301Z"
   },
   {
    "duration": 23,
    "start_time": "2023-06-30T16:03:36.707Z"
   },
   {
    "duration": 68,
    "start_time": "2023-06-30T16:04:44.856Z"
   },
   {
    "duration": 12,
    "start_time": "2023-06-30T16:05:59.600Z"
   },
   {
    "duration": 23,
    "start_time": "2023-06-30T16:09:11.694Z"
   },
   {
    "duration": 10929,
    "start_time": "2023-06-30T16:09:31.934Z"
   },
   {
    "duration": 64,
    "start_time": "2023-06-30T16:09:42.865Z"
   },
   {
    "duration": 32,
    "start_time": "2023-06-30T16:09:42.931Z"
   },
   {
    "duration": 24,
    "start_time": "2023-06-30T16:09:42.965Z"
   },
   {
    "duration": 17,
    "start_time": "2023-06-30T16:09:42.991Z"
   },
   {
    "duration": 17,
    "start_time": "2023-06-30T16:09:43.011Z"
   },
   {
    "duration": 13,
    "start_time": "2023-06-30T16:09:43.031Z"
   },
   {
    "duration": 30,
    "start_time": "2023-06-30T16:09:43.045Z"
   },
   {
    "duration": 24,
    "start_time": "2023-06-30T16:09:43.077Z"
   },
   {
    "duration": 125,
    "start_time": "2023-06-30T16:09:43.105Z"
   },
   {
    "duration": 0,
    "start_time": "2023-06-30T16:09:43.232Z"
   },
   {
    "duration": 29,
    "start_time": "2023-06-30T16:09:56.053Z"
   },
   {
    "duration": 4,
    "start_time": "2023-06-30T16:12:01.888Z"
   },
   {
    "duration": 53,
    "start_time": "2023-06-30T16:12:48.335Z"
   },
   {
    "duration": 61,
    "start_time": "2023-06-30T16:13:26.142Z"
   },
   {
    "duration": 21,
    "start_time": "2023-06-30T16:14:16.391Z"
   },
   {
    "duration": 30,
    "start_time": "2023-06-30T16:16:08.483Z"
   },
   {
    "duration": 18,
    "start_time": "2023-06-30T16:30:05.883Z"
   },
   {
    "duration": 93,
    "start_time": "2023-06-30T16:33:39.391Z"
   },
   {
    "duration": 22,
    "start_time": "2023-06-30T16:34:04.194Z"
   },
   {
    "duration": 101,
    "start_time": "2023-06-30T16:35:14.092Z"
   },
   {
    "duration": 14,
    "start_time": "2023-06-30T16:38:45.250Z"
   },
   {
    "duration": 14,
    "start_time": "2023-06-30T16:46:51.417Z"
   },
   {
    "duration": 20,
    "start_time": "2023-06-30T16:50:48.810Z"
   },
   {
    "duration": 11,
    "start_time": "2023-06-30T16:51:30.561Z"
   },
   {
    "duration": 19,
    "start_time": "2023-06-30T16:52:11.260Z"
   },
   {
    "duration": 21,
    "start_time": "2023-06-30T17:41:35.506Z"
   },
   {
    "duration": 28,
    "start_time": "2023-06-30T17:41:50.490Z"
   },
   {
    "duration": 20,
    "start_time": "2023-06-30T17:42:12.622Z"
   },
   {
    "duration": 22,
    "start_time": "2023-06-30T17:42:20.480Z"
   },
   {
    "duration": 45,
    "start_time": "2023-06-30T17:42:34.622Z"
   },
   {
    "duration": 66,
    "start_time": "2023-06-30T17:42:45.171Z"
   },
   {
    "duration": 25,
    "start_time": "2023-06-30T17:50:47.101Z"
   },
   {
    "duration": 30,
    "start_time": "2023-06-30T17:51:33.452Z"
   },
   {
    "duration": 69,
    "start_time": "2023-06-30T17:52:15.018Z"
   },
   {
    "duration": 22,
    "start_time": "2023-06-30T17:52:49.943Z"
   },
   {
    "duration": 17,
    "start_time": "2023-06-30T17:53:47.633Z"
   },
   {
    "duration": 17,
    "start_time": "2023-06-30T17:53:54.781Z"
   },
   {
    "duration": 10279,
    "start_time": "2023-06-30T17:58:25.726Z"
   },
   {
    "duration": 67,
    "start_time": "2023-06-30T17:58:36.007Z"
   },
   {
    "duration": 28,
    "start_time": "2023-06-30T17:58:36.075Z"
   },
   {
    "duration": 12,
    "start_time": "2023-06-30T17:58:36.105Z"
   },
   {
    "duration": 13,
    "start_time": "2023-06-30T17:58:36.118Z"
   },
   {
    "duration": 12,
    "start_time": "2023-06-30T17:58:36.133Z"
   },
   {
    "duration": 30,
    "start_time": "2023-06-30T17:58:36.146Z"
   },
   {
    "duration": 21,
    "start_time": "2023-06-30T17:58:36.178Z"
   },
   {
    "duration": 11,
    "start_time": "2023-06-30T17:58:36.201Z"
   },
   {
    "duration": 14,
    "start_time": "2023-06-30T17:58:36.214Z"
   },
   {
    "duration": 42,
    "start_time": "2023-06-30T17:58:36.230Z"
   },
   {
    "duration": 24,
    "start_time": "2023-06-30T17:59:06.114Z"
   },
   {
    "duration": 11169,
    "start_time": "2023-06-30T18:03:29.891Z"
   },
   {
    "duration": 118,
    "start_time": "2023-06-30T18:03:41.062Z"
   },
   {
    "duration": 60,
    "start_time": "2023-06-30T18:03:41.188Z"
   },
   {
    "duration": 14,
    "start_time": "2023-06-30T18:03:41.250Z"
   },
   {
    "duration": 32,
    "start_time": "2023-06-30T18:03:41.266Z"
   },
   {
    "duration": 13,
    "start_time": "2023-06-30T18:03:41.300Z"
   },
   {
    "duration": 14,
    "start_time": "2023-06-30T18:03:41.315Z"
   },
   {
    "duration": 21,
    "start_time": "2023-06-30T18:03:41.331Z"
   },
   {
    "duration": 14,
    "start_time": "2023-06-30T18:03:41.354Z"
   },
   {
    "duration": 44,
    "start_time": "2023-06-30T18:03:41.369Z"
   },
   {
    "duration": 16,
    "start_time": "2023-06-30T18:03:41.416Z"
   },
   {
    "duration": 7157,
    "start_time": "2023-07-01T04:53:41.891Z"
   },
   {
    "duration": 287,
    "start_time": "2023-07-01T04:53:49.050Z"
   },
   {
    "duration": 148,
    "start_time": "2023-07-01T04:53:49.338Z"
   },
   {
    "duration": 55,
    "start_time": "2023-07-01T04:53:49.490Z"
   },
   {
    "duration": 75,
    "start_time": "2023-07-01T04:53:49.547Z"
   },
   {
    "duration": 65,
    "start_time": "2023-07-01T04:53:49.625Z"
   },
   {
    "duration": 57,
    "start_time": "2023-07-01T04:53:49.691Z"
   },
   {
    "duration": 94,
    "start_time": "2023-07-01T04:53:49.750Z"
   },
   {
    "duration": 67,
    "start_time": "2023-07-01T04:53:49.846Z"
   },
   {
    "duration": 57,
    "start_time": "2023-07-01T04:53:49.915Z"
   },
   {
    "duration": 75,
    "start_time": "2023-07-01T04:53:49.974Z"
   },
   {
    "duration": 94,
    "start_time": "2023-07-01T04:56:16.188Z"
   },
   {
    "duration": 74,
    "start_time": "2023-07-01T04:56:18.573Z"
   },
   {
    "duration": 58,
    "start_time": "2023-07-01T04:58:53.906Z"
   },
   {
    "duration": 58,
    "start_time": "2023-07-01T04:59:03.087Z"
   },
   {
    "duration": 69,
    "start_time": "2023-07-01T04:59:18.847Z"
   },
   {
    "duration": 59,
    "start_time": "2023-07-01T04:59:22.151Z"
   },
   {
    "duration": 9662,
    "start_time": "2023-07-01T06:47:51.602Z"
   },
   {
    "duration": 52,
    "start_time": "2023-07-01T06:48:01.266Z"
   },
   {
    "duration": 39,
    "start_time": "2023-07-01T06:48:01.320Z"
   },
   {
    "duration": 30,
    "start_time": "2023-07-01T06:48:01.361Z"
   },
   {
    "duration": 44,
    "start_time": "2023-07-01T06:48:01.392Z"
   },
   {
    "duration": 32,
    "start_time": "2023-07-01T06:48:01.438Z"
   },
   {
    "duration": 25,
    "start_time": "2023-07-01T06:48:01.471Z"
   },
   {
    "duration": 48,
    "start_time": "2023-07-01T06:48:01.498Z"
   },
   {
    "duration": 44,
    "start_time": "2023-07-01T06:48:01.547Z"
   },
   {
    "duration": 53,
    "start_time": "2023-07-01T06:48:01.593Z"
   },
   {
    "duration": 46,
    "start_time": "2023-07-01T06:48:01.648Z"
   },
   {
    "duration": 16,
    "start_time": "2023-07-01T06:49:32.039Z"
   },
   {
    "duration": 84,
    "start_time": "2023-07-01T06:50:24.895Z"
   },
   {
    "duration": 15,
    "start_time": "2023-07-01T06:50:39.297Z"
   },
   {
    "duration": 46,
    "start_time": "2023-07-01T06:52:04.540Z"
   },
   {
    "duration": 15,
    "start_time": "2023-07-01T06:52:15.653Z"
   },
   {
    "duration": 524,
    "start_time": "2023-07-01T10:13:31.574Z"
   },
   {
    "duration": 4,
    "start_time": "2023-07-01T10:13:32.100Z"
   },
   {
    "duration": 10646,
    "start_time": "2023-07-01T10:13:32.106Z"
   },
   {
    "duration": 84,
    "start_time": "2023-07-01T10:13:42.754Z"
   },
   {
    "duration": 12,
    "start_time": "2023-07-01T10:13:42.841Z"
   },
   {
    "duration": 66,
    "start_time": "2023-07-01T10:13:42.855Z"
   },
   {
    "duration": 14,
    "start_time": "2023-07-01T10:13:42.922Z"
   },
   {
    "duration": 12,
    "start_time": "2023-07-01T10:13:42.938Z"
   },
   {
    "duration": 12,
    "start_time": "2023-07-01T10:13:42.952Z"
   },
   {
    "duration": 56,
    "start_time": "2023-07-01T10:13:42.966Z"
   },
   {
    "duration": 13,
    "start_time": "2023-07-01T10:13:43.024Z"
   },
   {
    "duration": 19,
    "start_time": "2023-07-01T10:13:43.040Z"
   },
   {
    "duration": 42,
    "start_time": "2023-07-01T10:13:43.061Z"
   },
   {
    "duration": 131,
    "start_time": "2023-07-01T10:21:26.044Z"
   },
   {
    "duration": 28,
    "start_time": "2023-07-01T10:21:57.238Z"
   },
   {
    "duration": 36,
    "start_time": "2023-07-01T10:27:41.416Z"
   },
   {
    "duration": 25,
    "start_time": "2023-07-01T10:28:32.725Z"
   },
   {
    "duration": 89,
    "start_time": "2023-07-01T10:31:55.139Z"
   },
   {
    "duration": 57,
    "start_time": "2023-07-01T10:32:39.367Z"
   },
   {
    "duration": 38,
    "start_time": "2023-07-01T10:33:04.095Z"
   },
   {
    "duration": 50,
    "start_time": "2023-07-01T10:34:24.559Z"
   },
   {
    "duration": 35,
    "start_time": "2023-07-01T10:34:36.695Z"
   },
   {
    "duration": 553,
    "start_time": "2023-07-01T10:36:05.996Z"
   },
   {
    "duration": 4,
    "start_time": "2023-07-01T10:36:06.551Z"
   },
   {
    "duration": 12645,
    "start_time": "2023-07-01T10:36:06.557Z"
   },
   {
    "duration": 46,
    "start_time": "2023-07-01T10:36:19.206Z"
   },
   {
    "duration": 9,
    "start_time": "2023-07-01T10:36:19.255Z"
   },
   {
    "duration": 45,
    "start_time": "2023-07-01T10:36:19.266Z"
   },
   {
    "duration": 10,
    "start_time": "2023-07-01T10:36:19.312Z"
   },
   {
    "duration": 10,
    "start_time": "2023-07-01T10:36:19.323Z"
   },
   {
    "duration": 9,
    "start_time": "2023-07-01T10:36:19.334Z"
   },
   {
    "duration": 37,
    "start_time": "2023-07-01T10:36:19.345Z"
   },
   {
    "duration": 27,
    "start_time": "2023-07-01T10:36:19.384Z"
   },
   {
    "duration": 13,
    "start_time": "2023-07-01T10:36:19.413Z"
   },
   {
    "duration": 14,
    "start_time": "2023-07-01T10:36:19.427Z"
   },
   {
    "duration": 608,
    "start_time": "2023-07-01T13:47:58.068Z"
   },
   {
    "duration": 3,
    "start_time": "2023-07-01T13:47:58.679Z"
   },
   {
    "duration": 13748,
    "start_time": "2023-07-01T13:47:58.684Z"
   },
   {
    "duration": 317,
    "start_time": "2023-07-01T13:48:12.435Z"
   },
   {
    "duration": 49,
    "start_time": "2023-07-01T13:48:12.755Z"
   },
   {
    "duration": 31,
    "start_time": "2023-07-01T13:48:12.806Z"
   },
   {
    "duration": 38,
    "start_time": "2023-07-01T13:48:12.839Z"
   },
   {
    "duration": 32,
    "start_time": "2023-07-01T13:48:12.880Z"
   },
   {
    "duration": 31,
    "start_time": "2023-07-01T13:48:12.914Z"
   },
   {
    "duration": 73,
    "start_time": "2023-07-01T13:48:12.947Z"
   },
   {
    "duration": 32,
    "start_time": "2023-07-01T13:48:13.024Z"
   },
   {
    "duration": 41,
    "start_time": "2023-07-01T13:48:13.059Z"
   },
   {
    "duration": 34,
    "start_time": "2023-07-01T13:48:13.102Z"
   }
  ],
  "kernelspec": {
   "display_name": "Python 3 (ipykernel)",
   "language": "python",
   "name": "python3"
  },
  "language_info": {
   "codemirror_mode": {
    "name": "ipython",
    "version": 3
   },
   "file_extension": ".py",
   "mimetype": "text/x-python",
   "name": "python",
   "nbconvert_exporter": "python",
   "pygments_lexer": "ipython3",
   "version": "3.9.5"
  },
  "toc": {
   "base_numbering": 1,
   "nav_menu": {},
   "number_sections": true,
   "sideBar": true,
   "skip_h1_title": true,
   "title_cell": "Table of Contents",
   "title_sidebar": "Contents",
   "toc_cell": false,
   "toc_position": {},
   "toc_section_display": true,
   "toc_window_display": false
  }
 },
 "nbformat": 4,
 "nbformat_minor": 2
}
